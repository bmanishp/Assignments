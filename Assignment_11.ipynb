{
 "cells": [
  {
   "cell_type": "markdown",
   "metadata": {},
   "source": [
    "Q1. Create an assert statement that throws an AssertionError if the variable spam is a negative\n",
    "integer."
   ]
  },
  {
   "cell_type": "code",
   "execution_count": 9,
   "metadata": {},
   "outputs": [
    {
     "name": "stdout",
     "output_type": "stream",
     "text": [
      "enter a an integer-2\n",
      "AssertionError: Enter value greater than 0\n"
     ]
    }
   ],
   "source": [
    "#Ans\n",
    "spam=int(input('enter a an integer'))\n",
    "try:\n",
    "    assert spam >=0,'AssertionError: Enter value greater than 0'\n",
    "except AssertionError as e:\n",
    "    print(e)"
   ]
  },
  {
   "cell_type": "markdown",
   "metadata": {},
   "source": [
    "Q2. Write an assert statement that triggers an AssertionError if the variables eggs and bacon contain\n",
    "strings that are the same as each other, even if their cases are different (that is, &#39;hello&#39; and &#39;hello&#39; are\n",
    "considered the same, and &#39;goodbye&#39; and &#39;GOODbye&#39; are also considered the same)."
   ]
  },
  {
   "cell_type": "code",
   "execution_count": 17,
   "metadata": {},
   "outputs": [
    {
     "name": "stdout",
     "output_type": "stream",
     "text": [
      "Enter a string value for \"eggs\"good Morning\n",
      "Enter a string value for \"bacon\"Good morning\n",
      "AssertionError: String  of \"eggs\" & \"bacon\" are equal\n"
     ]
    }
   ],
   "source": [
    "# Ans.\n",
    "eggs=input('Enter a string value for \"eggs\"')\n",
    "bacon=input('Enter a string value for \"bacon\"')\n",
    "try:\n",
    "    assert eggs.casefold()!=bacon.casefold(),'AssertionError: String  of \"eggs\" & \"bacon\" are equal'\n",
    "    print('Value of \"eggs = {}\" and value of \"bacon = {}\"'.format(eggs,bacon))\n",
    "except AssertionError as e:\n",
    "    print(e)"
   ]
  },
  {
   "cell_type": "markdown",
   "metadata": {},
   "source": [
    "Q3. Create an assert statement that throws an AssertionError every time."
   ]
  },
  {
   "cell_type": "code",
   "execution_count": 22,
   "metadata": {},
   "outputs": [
    {
     "name": "stdout",
     "output_type": "stream",
     "text": [
      "Enter a value for \"a\" 45\n",
      "Enter a value for \"b\" sd\n",
      "AssertionError: Value of a=45 & b=sd\n"
     ]
    }
   ],
   "source": [
    "# Ans.\n",
    "a=input('Enter a value for \"a\" ')\n",
    "b=input('Enter a value for \"b\" ')\n",
    "try:\n",
    "    assert False,\"AssertionError: Value of a={} & b={}\".format(a,b)\n",
    "except AssertionError as e:\n",
    "    print(e)"
   ]
  },
  {
   "cell_type": "markdown",
   "metadata": {},
   "source": [
    "Q4. What are the two lines that must be present in your software in order to call logging.debug()?"
   ]
  },
  {
   "cell_type": "code",
   "execution_count": 8,
   "metadata": {},
   "outputs": [],
   "source": [
    "# Ans. With below two lines 'logging.debug()' is called.\n",
    "import logging\n",
    "logging.basicConfig(filename=\"log_file.log\",level=logging.DEBUG,format='%(asctime)s %(levelname)s %(message)s')\n",
    "\n",
    "logging.debug('This is debugging error')"
   ]
  },
  {
   "cell_type": "markdown",
   "metadata": {},
   "source": [
    "Q5. What are the two lines that your program must have in order to have logging.debug() send a\n",
    "logging message to a file named programLog.txt?"
   ]
  },
  {
   "cell_type": "code",
   "execution_count": 2,
   "metadata": {},
   "outputs": [],
   "source": [
    "import logging\n",
    "logging.basicConfig(filename=\"programLog.txt\",level=logging.DEBUG,format='%(asctime)s %(levelname)s %(message)s')\n",
    "\n",
    "logging.debug('This is debugging error')"
   ]
  },
  {
   "cell_type": "markdown",
   "metadata": {},
   "source": [
    "Q6. What are the five levels of logging?"
   ]
  },
  {
   "cell_type": "code",
   "execution_count": 4,
   "metadata": {},
   "outputs": [],
   "source": [
    "#Ans. Five levels of logging are:\n",
    "#     1. DEBUG: Detailed information, for diagnosing problems.\n",
    "#     2. INFO: Confirm things are working as expected.\n",
    "#     3. WARNING: Something unexpected happened, or indicative of some problem. But the software is still working \n",
    "#         as expected.\n",
    "#     4. ERROR: More serious problem, the software is not able to perform some function.\n",
    "#     5. CRITICAL: A serious error, the program itself may be unable to continue running."
   ]
  },
  {
   "cell_type": "markdown",
   "metadata": {},
   "source": [
    "Q7. What line of code would you add to your software to disable all logging messages?"
   ]
  },
  {
   "cell_type": "code",
   "execution_count": 7,
   "metadata": {},
   "outputs": [],
   "source": [
    "# Ans.\n",
    "logging.disable(level=50)"
   ]
  },
  {
   "cell_type": "markdown",
   "metadata": {},
   "source": [
    "Q8.Why is using logging messages better than using print() to display the same message?"
   ]
  },
  {
   "cell_type": "code",
   "execution_count": 11,
   "metadata": {},
   "outputs": [],
   "source": [
    "# Ans.The Python logging library lets you:\n",
    "#     1. Control what’s emitted\n",
    "#     2. Define what types of information you want to include in your logs\n",
    "#     3. Configure how it looks when it’s emitted\n",
    "#     4. Most importantly, set the destination for your logs"
   ]
  },
  {
   "cell_type": "markdown",
   "metadata": {},
   "source": [
    "Q9. What are the differences between the Step Over, Step In, and Step Out buttons in the debugger?"
   ]
  },
  {
   "cell_type": "code",
   "execution_count": null,
   "metadata": {},
   "outputs": [],
   "source": [
    "# Ans.\n",
    "# # 1. Step Over command: \n",
    "#     This command lets the application execute the next action. If the action involves a call to an operation, \n",
    "#     it does not step into its implementation (it steps over it instead).\n",
    "# # 2.Step Into command:\n",
    "#     Steps into the method to show what happens inside it. Use this option when you are not sure \n",
    "#     the method is returning a correct result.\n",
    "# # 3.Step Out command:\n",
    "#     Steps out of the current method and takes you to the caller method."
   ]
  },
  {
   "cell_type": "markdown",
   "metadata": {},
   "source": [
    "Q10. After you click Continue, when will the debugger stop ?"
   ]
  },
  {
   "cell_type": "code",
   "execution_count": 12,
   "metadata": {},
   "outputs": [],
   "source": [
    "# Ans. After clicking 'Continue' debugger will stop at next breakpoint, if any."
   ]
  },
  {
   "cell_type": "markdown",
   "metadata": {},
   "source": [
    "Q11. What is the concept of a breakpoint?"
   ]
  },
  {
   "cell_type": "code",
   "execution_count": 13,
   "metadata": {},
   "outputs": [],
   "source": [
    "# Ans. In software development, a breakpoint is an intentional stopping or pausing place in a program, \n",
    "# put in place for debugging purposes. It is also sometimes simply referred to as a pause. \n",
    "# More generally, a breakpoint is a means of acquiring knowledge about a program during its execution."
   ]
  },
  {
   "cell_type": "code",
   "execution_count": null,
   "metadata": {},
   "outputs": [],
   "source": []
  }
 ],
 "metadata": {
  "kernelspec": {
   "display_name": "Python 3",
   "language": "python",
   "name": "python3"
  },
  "language_info": {
   "codemirror_mode": {
    "name": "ipython",
    "version": 3
   },
   "file_extension": ".py",
   "mimetype": "text/x-python",
   "name": "python",
   "nbconvert_exporter": "python",
   "pygments_lexer": "ipython3",
   "version": "3.7.6"
  }
 },
 "nbformat": 4,
 "nbformat_minor": 4
}
