{
 "cells": [
  {
   "cell_type": "raw",
   "metadata": {},
   "source": [
    "1. In the below elements which of them are values or an expression? eg:- values can be integer or string and expressions will be mathematical operators.\n",
    "* \n",
    "'hello'\n",
    "-87.8\n",
    "- \n",
    "/ \n",
    "+\t\n",
    "6 \n",
    "\n",
    "Ans. Values: 'hello',-87.8,6\n",
    "    operators: *, -, /,+"
   ]
  },
  {
   "cell_type": "raw",
   "metadata": {},
   "source": [
    "2. What is the difference between string and variable?\n",
    "Ans. \n",
    "String: Like many other popular programming languages, strings in Python are arrays of bytes representing unicode characters. However, Python does not have a character data type, a single character is simply a string with a length of 1. Square brackets can be used to access elements of the string.\n",
    "\n",
    "Variable:a variable or scalar is an abstract storage location paired with an associated symbolic name, which contains some known or unknown quantity of information referred to as a value"
   ]
  },
  {
   "cell_type": "raw",
   "metadata": {},
   "source": [
    "3. Describe three different data types.\n",
    "Ans. Three data Types:\n",
    "    1. Numbers: Number data types store numeric values. Number objects are created when you assign a value to them.\n",
    "    2. Lists are the most versatile of Python's compound data types. A list contains items separated by commas and enclosed \n",
    "    within square brackets ([])\n",
    "    3. Tuples: A tuple is another sequence data type that is similar to the list. A tuple consists of a number of values\n",
    "    separated by commas. Unlike lists, however, tuples are enclosed within parentheses.\n",
    "        "
   ]
  },
  {
   "cell_type": "raw",
   "metadata": {},
   "source": [
    "4. What is an expression made up of? What do all expressions do?\n",
    "Ans. An expression is a combination of operators and operands that is interpreted to produce some other value. In other words it is a valid combination of operators, literals and variables.\n",
    "Types of Expressions and uses:\n",
    "    1. Arithmetic expression:\n",
    "        e.g. 1+2\n",
    "    2. Relational expression.\n",
    "        e.g. x=10, y=30, x<y\n",
    "    3. String expression\n",
    "        e.g. 'Data' + ' Science'\n",
    "    4. Logical expression\n",
    "        e.g. x=10, y=30\n",
    "        if x<y:\n",
    "            print(\"hello\")\n",
    "    5. Compound expression\n",
    "        e.g. x=5, y=10,\n",
    "        if x < y:\n",
    "            print(x+y)\n",
    "            "
   ]
  },
  {
   "cell_type": "raw",
   "metadata": {},
   "source": [
    "5. This assignment statements, like spam = 10. What is the difference between an expression and a statement?\n",
    "Ans. Statements represent an action or command e.g print statements, assignment statements. Expression is a combination of variables, operations and values that yields a result value. An expression is something that can be reduced to a value, for example \"1+3\" is an expression, but \"x = 1+3\" is not."
   ]
  },
  {
   "cell_type": "raw",
   "metadata": {},
   "source": [
    "6. After running the following code, what does the variable bacon contain?\n",
    "bacon = 22\n",
    "bacon + 1\n",
    "Ans. 22"
   ]
  },
  {
   "cell_type": "raw",
   "metadata": {},
   "source": [
    "7. What should the values of the following two terms be?\n",
    "'spam' + 'spamspam'\n",
    "'spam' * 3\n",
    "Ans. output=> 'spamspamspam'"
   ]
  },
  {
   "cell_type": "raw",
   "metadata": {},
   "source": [
    "8. Why is eggs a valid variable name while 100 is invalid?\n",
    "Ans. As per rules of python-'A variable name cannot start with a number' and 100 is a number."
   ]
  },
  {
   "cell_type": "raw",
   "metadata": {},
   "source": [
    "9. What three functions can be used to get the integer, floating-point number, or string version of a value?\n",
    "Ans. Three functions are:\n",
    "    1. integer: int(10)\n",
    "    2. Floating point number: float(10)\n",
    "    3. String: str(10)"
   ]
  },
  {
   "cell_type": "raw",
   "metadata": {},
   "source": [
    "10. Why does this expression cause an error? How can you fix it?\n",
    "'I have eaten ' + 99 + ' burritos.'\n",
    "Ans. The above expression is causing error because '99' is an integer. By typecasting it with str(99), the error can be fixed."
   ]
  },
  {
   "cell_type": "code",
   "execution_count": null,
   "metadata": {},
   "outputs": [],
   "source": []
  }
 ],
 "metadata": {
  "kernelspec": {
   "display_name": "Python 3",
   "language": "python",
   "name": "python3"
  },
  "language_info": {
   "codemirror_mode": {
    "name": "ipython",
    "version": 3
   },
   "file_extension": ".py",
   "mimetype": "text/x-python",
   "name": "python",
   "nbconvert_exporter": "python",
   "pygments_lexer": "ipython3",
   "version": "3.7.6"
  }
 },
 "nbformat": 4,
 "nbformat_minor": 4
}
