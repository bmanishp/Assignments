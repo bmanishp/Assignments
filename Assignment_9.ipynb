{
 "cells": [
  {
   "cell_type": "markdown",
   "metadata": {},
   "source": [
    "Q1. To what does a relative path refer?"
   ]
  },
  {
   "cell_type": "code",
   "execution_count": 1,
   "metadata": {},
   "outputs": [],
   "source": [
    "# Ans. Relative Path is the hierarchical path that locates a file or folder on a file system \n",
    "# starting from the current directory. The relative path is different from the absolute path, \n",
    "# which locates the file or folder starting from the root of the file system."
   ]
  },
  {
   "cell_type": "markdown",
   "metadata": {},
   "source": [
    "Q2. What does an absolute path start with your operating system?"
   ]
  },
  {
   "cell_type": "code",
   "execution_count": 2,
   "metadata": {},
   "outputs": [],
   "source": [
    "# Ans. An absolute path refers to the complete details needed to locate a file or folder, starting from the root \n",
    "# element and ending with the other subdirectories. Absolute paths are used in websites and operating systems for \n",
    "# locating files and folders. An absolute path is also known as an absolute pathname or full path."
   ]
  },
  {
   "cell_type": "markdown",
   "metadata": {},
   "source": [
    "Q3. What do the functions os.getcwd() and os.chdir() do?"
   ]
  },
  {
   "cell_type": "code",
   "execution_count": 3,
   "metadata": {},
   "outputs": [],
   "source": [
    "# Ans. \"os.getcwd()\" is used to get present working directory.\"os.chdir()\" is used to change dir()."
   ]
  },
  {
   "cell_type": "markdown",
   "metadata": {},
   "source": [
    "Q4. What are the . and .. folders?"
   ]
  },
  {
   "cell_type": "code",
   "execution_count": 4,
   "metadata": {},
   "outputs": [],
   "source": [
    "# Ans. A folder is a storage space, or container, where many files can be placed into groups and organize the computer. \n",
    "# A folder can also contain other folders. "
   ]
  },
  {
   "cell_type": "markdown",
   "metadata": {},
   "source": [
    "Q5. In C:\\bacon\\eggs\\spam.txt, which part is the dir name, and which part is the base name?"
   ]
  },
  {
   "cell_type": "code",
   "execution_count": 5,
   "metadata": {},
   "outputs": [],
   "source": [
    "# Ans. \"C:\\bacon\\eggs\" is the dir name, while \"spam.txt\" is the base name."
   ]
  },
  {
   "cell_type": "markdown",
   "metadata": {},
   "source": [
    "Q6. What are the three “mode” arguments that can be passed to the open() function?"
   ]
  },
  {
   "cell_type": "code",
   "execution_count": 6,
   "metadata": {},
   "outputs": [],
   "source": [
    "# Ans. The Three modes are:\n",
    "#     1. string 'r' for read mode\n",
    "#     2. string 'w' for write mode\n",
    "#     3. string 'a' for append mode"
   ]
  },
  {
   "cell_type": "markdown",
   "metadata": {},
   "source": [
    "Q7. What happens if an existing file is opened in write mode?"
   ]
  },
  {
   "cell_type": "code",
   "execution_count": 7,
   "metadata": {},
   "outputs": [],
   "source": [
    "# Ans. Opening a file in 'write' mode truncates the existing data in the file."
   ]
  },
  {
   "cell_type": "markdown",
   "metadata": {},
   "source": [
    "Q8. How do you tell the difference between read() and readlines()?"
   ]
  },
  {
   "cell_type": "code",
   "execution_count": 8,
   "metadata": {},
   "outputs": [],
   "source": [
    "# Ans. The 'read()' method returns the file's entire contents as a single string value. The 'readlines()' method returns \n",
    "# a list of strings, where each string is a line from the file's contents."
   ]
  },
  {
   "cell_type": "code",
   "execution_count": 9,
   "metadata": {},
   "outputs": [],
   "source": [
    "f=open('test_f1.txt','a+')\n",
    "f.write('Hello brother\\n')\n",
    "f.write('Hello brother\\n')\n",
    "f.write('Hello brother\\n')\n",
    "f.write('Hello brother\\n')\n",
    "f.close()\n",
    "\n",
    "f=open('test_f1.txt','r')"
   ]
  },
  {
   "cell_type": "code",
   "execution_count": 10,
   "metadata": {},
   "outputs": [
    {
     "data": {
      "text/plain": [
       "'Hello brother\\nHello brother\\nHello brother\\nHello brother\\nHello brother\\nHello brother\\nHello brother\\nHello brother\\n'"
      ]
     },
     "execution_count": 10,
     "metadata": {},
     "output_type": "execute_result"
    }
   ],
   "source": [
    "f.seek(0)\n",
    "f.read()"
   ]
  },
  {
   "cell_type": "code",
   "execution_count": 11,
   "metadata": {},
   "outputs": [
    {
     "data": {
      "text/plain": [
       "['Hello brother\\n',\n",
       " 'Hello brother\\n',\n",
       " 'Hello brother\\n',\n",
       " 'Hello brother\\n',\n",
       " 'Hello brother\\n',\n",
       " 'Hello brother\\n',\n",
       " 'Hello brother\\n',\n",
       " 'Hello brother\\n']"
      ]
     },
     "execution_count": 11,
     "metadata": {},
     "output_type": "execute_result"
    }
   ],
   "source": [
    "f.seek(0)\n",
    "f.readlines()"
   ]
  },
  {
   "cell_type": "markdown",
   "metadata": {},
   "source": [
    "Q9. What data structure does a shelf value resemble?"
   ]
  },
  {
   "cell_type": "code",
   "execution_count": 12,
   "metadata": {},
   "outputs": [],
   "source": [
    "# Ans. A shelf value resembles a dictionary value. It has keys and values. It also has methods that work similarly \n",
    "# to the dictionary methods of the same names."
   ]
  },
  {
   "cell_type": "code",
   "execution_count": null,
   "metadata": {},
   "outputs": [],
   "source": []
  }
 ],
 "metadata": {
  "kernelspec": {
   "display_name": "Python 3",
   "language": "python",
   "name": "python3"
  },
  "language_info": {
   "codemirror_mode": {
    "name": "ipython",
    "version": 3
   },
   "file_extension": ".py",
   "mimetype": "text/x-python",
   "name": "python",
   "nbconvert_exporter": "python",
   "pygments_lexer": "ipython3",
   "version": "3.7.6"
  }
 },
 "nbformat": 4,
 "nbformat_minor": 4
}
