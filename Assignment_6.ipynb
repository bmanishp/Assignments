{
 "cells": [
  {
   "cell_type": "markdown",
   "metadata": {},
   "source": [
    "1. What are escape characters, and how do you use them?"
   ]
  },
  {
   "cell_type": "raw",
   "metadata": {},
   "source": [
    "Ans. To insert characters that are illegal in a string, use an escape character. An escape character is a backslash \\ followed by the character you want to insert. An example of an illegal character is a double quote inside a string that is surrounded by double quotes.\n",
    "example:"
   ]
  },
  {
   "cell_type": "code",
   "execution_count": 1,
   "metadata": {},
   "outputs": [
    {
     "data": {
      "text/plain": [
       "\"Escape character allows- 'single quote inside a single quote in a string'\""
      ]
     },
     "execution_count": 1,
     "metadata": {},
     "output_type": "execute_result"
    }
   ],
   "source": [
    "'Escape character allows- \\'single quote inside a single quote in a string\\''"
   ]
  },
  {
   "cell_type": "markdown",
   "metadata": {},
   "source": [
    "2. What do the escape characters n and t stand for?"
   ]
  },
  {
   "cell_type": "raw",
   "metadata": {},
   "source": [
    "Ans. Escape Characters 'n' stands for 'New Line' and 't' stands for 'tab'."
   ]
  },
  {
   "cell_type": "markdown",
   "metadata": {},
   "source": [
    "3. What is the way to include backslash characters in a string?"
   ]
  },
  {
   "cell_type": "code",
   "execution_count": 2,
   "metadata": {},
   "outputs": [
    {
     "name": "stdout",
     "output_type": "stream",
     "text": [
      "To include single backslash in a text we use two backslash \\\n"
     ]
    }
   ],
   "source": [
    "# Ans.\n",
    "txt='To include single backslash in a text we use two backslash \\\\'\n",
    "print(txt)"
   ]
  },
  {
   "cell_type": "markdown",
   "metadata": {},
   "source": [
    "4. The string \"Howl's Moving Castle\" is a correct value. Why isn't the single quote character in the word Howl's not escaped a problem?"
   ]
  },
  {
   "cell_type": "raw",
   "metadata": {},
   "source": [
    "Ans. \"Howl's Moving Castle\" is correct because outer quotes are double (\"\")."
   ]
  },
  {
   "cell_type": "markdown",
   "metadata": {},
   "source": [
    "5. How do you write a string of newlines if you don't want to use the n character?"
   ]
  },
  {
   "cell_type": "raw",
   "metadata": {},
   "source": [
    "Ans. We can use carriage return (\\r) to write a string in new line"
   ]
  },
  {
   "cell_type": "markdown",
   "metadata": {},
   "source": [
    "6. What are the values of the given expressions?\n",
    "\n",
    "'Hello, world!'[1]\n",
    "\n",
    "'Hello, world!'[0:5]\n",
    "\n",
    "'Hello, world!'[:5]\n",
    "\n",
    "'Hello, world!'[3:]\n"
   ]
  },
  {
   "cell_type": "code",
   "execution_count": 3,
   "metadata": {},
   "outputs": [
    {
     "name": "stdout",
     "output_type": "stream",
     "text": [
      "'Hello, world!'[1] is:  e\n",
      "'Hello, world!'[0:5] is:  Hello\n",
      "'Hello, world!'[:5] is:  Hello\n",
      "'Hello, world!'[3:] is:  lo, world!\n"
     ]
    }
   ],
   "source": [
    "# Ans. Values of expressions:\n",
    "print('\\'Hello, world!\\'[1] is: ','Hello, world!'[1] )\n",
    "print('\\'Hello, world!\\'[0:5] is: ','Hello, world!'[0:5] )\n",
    "print('\\'Hello, world!\\'[:5] is: ','Hello, world!'[:5] )\n",
    "print('\\'Hello, world!\\'[3:] is: ','Hello, world!'[3:] )"
   ]
  },
  {
   "cell_type": "markdown",
   "metadata": {},
   "source": [
    "7. What are the values of the following expressions?\n",
    "\n",
    "'Hello'.upper()\n",
    "\n",
    "'Hello'.upper().isupper()\n",
    "\n",
    "'Hello'.upper().lower()\n"
   ]
  },
  {
   "cell_type": "code",
   "execution_count": 4,
   "metadata": {},
   "outputs": [
    {
     "name": "stdout",
     "output_type": "stream",
     "text": [
      "'Hello'.upper() will convert the word in capitals as:  HELLO\n",
      "'Hello'.upper().isupper() will give output as:  True\n",
      "'Hello'.upper().lower() will convert the word in lower case as:  hello\n"
     ]
    }
   ],
   "source": [
    "# Ans. Values of expressions are:\n",
    "print('\\'Hello\\'.upper() will convert the word in capitals as: ','Hello'.upper())\n",
    "print('\\'Hello\\'.upper().isupper() will give output as: ','Hello'.upper().isupper())\n",
    "print('\\'Hello\\'.upper().lower() will convert the word in lower case as: ','Hello'.upper().lower())"
   ]
  },
  {
   "cell_type": "markdown",
   "metadata": {},
   "source": [
    "8. What are the values of the following expressions?\n",
    "\n",
    "'Remember, remember, the fifth of July.'.split()\n",
    "\n",
    "'-'.join('There can only one.'.split())\n"
   ]
  },
  {
   "cell_type": "code",
   "execution_count": 5,
   "metadata": {},
   "outputs": [
    {
     "data": {
      "text/plain": [
       "['Remember,', 'remember,', 'the', 'fifth', 'of', 'July.']"
      ]
     },
     "execution_count": 5,
     "metadata": {},
     "output_type": "execute_result"
    }
   ],
   "source": [
    "# Ans8 (a): The expression \"'Remember, remember, the fifth of July.'.split()\"\n",
    "# will split the string basis white-space and store in a list.\n",
    "'Remember, remember, the fifth of July.'.split()"
   ]
  },
  {
   "cell_type": "code",
   "execution_count": 6,
   "metadata": {},
   "outputs": [
    {
     "name": "stdout",
     "output_type": "stream",
     "text": [
      "split converts string to list and output is \n",
      " ['There', 'can', 'only', 'one.'] \n",
      "\n",
      "join inserts '-' between list elements and output is \n",
      " There-can-only-one.\n"
     ]
    }
   ],
   "source": [
    "# Ans 8(b) The expression \"'-'.join('There can only one.'.split())\"\n",
    "# will return \"There-can-only-one.\" \n",
    "# Firstly,\n",
    "# split function will convert the string into list basis white space and then\n",
    "# Secondly,\n",
    "# join function will place dash '-' between list element.\n",
    "\n",
    "a='There can only one.'.split()\n",
    "print(\"split converts string to list and output is \\n\", a,'\\n')\n",
    "print(\"join inserts '-' between list elements and output is \\n\",'-'.join(a))"
   ]
  },
  {
   "cell_type": "markdown",
   "metadata": {},
   "source": [
    "9. What are the methods for right-justifying, left-justifying, and centering a string?"
   ]
  },
  {
   "cell_type": "code",
   "execution_count": 7,
   "metadata": {},
   "outputs": [
    {
     "name": "stdout",
     "output_type": "stream",
     "text": [
      "right justification : ****String\n",
      "left justification : String****\n",
      "center justification : **String**\n"
     ]
    }
   ],
   "source": [
    "# Ans. Methods are:\n",
    "# 'String'.rjust is for right Justification.\n",
    "# 'String'.ljust is for left-Justification.\n",
    "# 'String'.center is for center Justification.\n",
    "# Example\n",
    "print('right justification :','String'.rjust(10,'*'))\n",
    "print('left justification :','String'.ljust(10,'*'))\n",
    "print('center justification :','String'.center(10,'*'))"
   ]
  },
  {
   "cell_type": "markdown",
   "metadata": {},
   "source": [
    "10. What is the best way to remove whitespace characters from the start or end?"
   ]
  },
  {
   "cell_type": "code",
   "execution_count": 8,
   "metadata": {},
   "outputs": [
    {
     "name": "stdout",
     "output_type": "stream",
     "text": [
      "length of a is:  13\n",
      "after strip lenght of a is : 6\n"
     ]
    }
   ],
   "source": [
    "# Ans. We can use \"str.strip()\" method to remove whitespace characters from the start and end.\n",
    "#Example:\n",
    "a='   string    '\n",
    "print('length of a is: ', len(a))\n",
    "print('after strip lenght of a is :',len(a.strip()))"
   ]
  },
  {
   "cell_type": "code",
   "execution_count": null,
   "metadata": {},
   "outputs": [],
   "source": []
  }
 ],
 "metadata": {
  "kernelspec": {
   "display_name": "Python 3",
   "language": "python",
   "name": "python3"
  },
  "language_info": {
   "codemirror_mode": {
    "name": "ipython",
    "version": 3
   },
   "file_extension": ".py",
   "mimetype": "text/x-python",
   "name": "python",
   "nbconvert_exporter": "python",
   "pygments_lexer": "ipython3",
   "version": "3.7.6"
  }
 },
 "nbformat": 4,
 "nbformat_minor": 4
}
